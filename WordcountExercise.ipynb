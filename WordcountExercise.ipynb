{
 "cells": [
  {
   "cell_type": "markdown",
   "metadata": {},
   "source": [
    "### Exercise 1"
   ]
  },
  {
   "cell_type": "code",
   "execution_count": null,
   "metadata": {
    "collapsed": true
   },
   "outputs": [],
   "source": [
    "def charcount(str):\n",
    "    chars={}\n",
    "    for c in str:\n",
    "        chars[c] = chars.get(c,0)+1\n",
    "    return chars"
   ]
  },
  {
   "cell_type": "code",
   "execution_count": 3,
   "metadata": {
    "collapsed": true
   },
   "outputs": [],
   "source": [
    "out = charcount(\"Mississippi\")"
   ]
  },
  {
   "cell_type": "code",
   "execution_count": 4,
   "metadata": {
    "collapsed": false
   },
   "outputs": [
    {
     "name": "stdout",
     "output_type": "stream",
     "text": [
      "{'i': 4, 'p': 2, 's': 4, 'M': 1}\n"
     ]
    }
   ],
   "source": [
    "print out"
   ]
  },
  {
   "cell_type": "markdown",
   "metadata": {},
   "source": [
    "### Exercise 2"
   ]
  },
  {
   "cell_type": "code",
   "execution_count": 47,
   "metadata": {
    "collapsed": true
   },
   "outputs": [],
   "source": [
    "d = {\"apples\": 15, \"bananas\": 35, \"grapes\": 12}"
   ]
  },
  {
   "cell_type": "code",
   "execution_count": 50,
   "metadata": {
    "collapsed": false
   },
   "outputs": [],
   "source": [
    "def add_fruit(inventory, fruit, quantity=0):\n",
    "    inventory[fruit]=quantity\n",
    "    return "
   ]
  },
  {
   "cell_type": "code",
   "execution_count": 51,
   "metadata": {
    "collapsed": false
   },
   "outputs": [],
   "source": [
    "new_inventory = {}\n",
    "add_fruit(new_inventory, \"strawberries\", 10)"
   ]
  },
  {
   "cell_type": "code",
   "execution_count": 53,
   "metadata": {
    "collapsed": false
   },
   "outputs": [
    {
     "data": {
      "text/plain": [
       "True"
      ]
     },
     "execution_count": 53,
     "metadata": {},
     "output_type": "execute_result"
    }
   ],
   "source": [
    "\"strawberries\" in new_inventory"
   ]
  },
  {
   "cell_type": "code",
   "execution_count": 54,
   "metadata": {
    "collapsed": false
   },
   "outputs": [
    {
     "data": {
      "text/plain": [
       "True"
      ]
     },
     "execution_count": 54,
     "metadata": {},
     "output_type": "execute_result"
    }
   ],
   "source": [
    "new_inventory[\"strawberries\"] == 10"
   ]
  },
  {
   "cell_type": "code",
   "execution_count": 55,
   "metadata": {
    "collapsed": true
   },
   "outputs": [],
   "source": [
    "add_fruit(new_inventory, \"strawberries\", 25)"
   ]
  },
  {
   "cell_type": "code",
   "execution_count": 56,
   "metadata": {
    "collapsed": false
   },
   "outputs": [
    {
     "data": {
      "text/plain": [
       "False"
      ]
     },
     "execution_count": 56,
     "metadata": {},
     "output_type": "execute_result"
    }
   ],
   "source": [
    "new_inventory[\"strawberries\"] == 35"
   ]
  },
  {
   "cell_type": "code",
   "execution_count": 57,
   "metadata": {
    "collapsed": false
   },
   "outputs": [
    {
     "data": {
      "text/plain": [
       "{'strawberries': 25}"
      ]
     },
     "execution_count": 57,
     "metadata": {},
     "output_type": "execute_result"
    }
   ],
   "source": [
    "new_inventory"
   ]
  },
  {
   "cell_type": "markdown",
   "metadata": {},
   "source": [
    "### Exercise 3"
   ]
  },
  {
   "cell_type": "code",
   "execution_count": 14,
   "metadata": {
    "collapsed": true
   },
   "outputs": [],
   "source": [
    "import re"
   ]
  },
  {
   "cell_type": "code",
   "execution_count": 31,
   "metadata": {
    "collapsed": true
   },
   "outputs": [],
   "source": [
    "fname = 'WordCount/AliceinWonderland.txt'"
   ]
  },
  {
   "cell_type": "code",
   "execution_count": 40,
   "metadata": {
    "collapsed": false
   },
   "outputs": [],
   "source": [
    "words = {}\n",
    "with open(fname,'r') as f:\n",
    "    for line in f:\n",
    "        for word in line.split():\n",
    "            newword = re.sub('[^a-zA-Z]','',word)\n",
    "            words[newword] = words.get(newword,0)+1"
   ]
  },
  {
   "cell_type": "code",
   "execution_count": 45,
   "metadata": {
    "collapsed": false
   },
   "outputs": [
    {
     "data": {
      "text/plain": [
       "108"
      ]
     },
     "execution_count": 45,
     "metadata": {},
     "output_type": "execute_result"
    }
   ],
   "source": [
    "words.pop('',None)"
   ]
  },
  {
   "cell_type": "code",
   "execution_count": 46,
   "metadata": {
    "collapsed": false
   },
   "outputs": [
    {
     "data": {
      "text/plain": [
       "[('A', 18),\n",
       " ('ACTUAL', 1),\n",
       " ('ADVENTURES', 3),\n",
       " ('AGREE', 2),\n",
       " ('AGREEMENT', 1),\n",
       " ('AK', 1),\n",
       " ('ALICES', 5),\n",
       " ('ALL', 3),\n",
       " ('AND', 4),\n",
       " ('ANY', 3)]"
      ]
     },
     "execution_count": 46,
     "metadata": {},
     "output_type": "execute_result"
    }
   ],
   "source": [
    "sorted(words.items())[:10]"
   ]
  },
  {
   "cell_type": "code",
   "execution_count": null,
   "metadata": {
    "collapsed": true
   },
   "outputs": [],
   "source": [
    "sorted(words.items())[:10]"
   ]
  },
  {
   "cell_type": "markdown",
   "metadata": {},
   "source": [
    "### Exercise 4"
   ]
  },
  {
   "cell_type": "code",
   "execution_count": 59,
   "metadata": {
    "collapsed": false
   },
   "outputs": [],
   "source": [
    "word_sort = sorted(words, key=words.get, reverse=True)"
   ]
  },
  {
   "cell_type": "code",
   "execution_count": 67,
   "metadata": {
    "collapsed": false
   },
   "outputs": [
    {
     "name": "stdout",
     "output_type": "stream",
     "text": [
      "the 1673\n"
     ]
    }
   ],
   "source": [
    "print word_sort[0], words[word_sort[0]]"
   ]
  },
  {
   "cell_type": "markdown",
   "metadata": {},
   "source": [
    "### Exercise 5"
   ]
  },
  {
   "cell_type": "code",
   "execution_count": 68,
   "metadata": {
    "collapsed": true
   },
   "outputs": [],
   "source": [
    "words_CAP = {}\n",
    "with open(fname,'r') as f:\n",
    "    for line in f:\n",
    "        for word_CAP in line.split():\n",
    "            if(word_CAP[0].isupper()):\n",
    "                newword = re.sub('[^a-zA-Z]','',word)\n",
    "                words_CAP[newword] = words_CAP.get(newword,0)+1"
   ]
  },
  {
   "cell_type": "code",
   "execution_count": 70,
   "metadata": {
    "collapsed": false
   },
   "outputs": [
    {
     "data": {
      "text/plain": [
       "[('A', 18),\n",
       " ('ACTUAL', 1),\n",
       " ('ADVENTURES', 3),\n",
       " ('AGREE', 2),\n",
       " ('AGREEMENT', 1),\n",
       " ('AK', 1),\n",
       " ('ALICES', 5),\n",
       " ('ALL', 3),\n",
       " ('AND', 4),\n",
       " ('ANY', 3),\n",
       " ('ANYTHING', 1),\n",
       " ('ARE', 6),\n",
       " ('ASCII', 2),\n",
       " ('ASIS', 1),\n",
       " ('AT', 1),\n",
       " ('About', 1),\n",
       " ('Ada', 1),\n",
       " ('Additional', 1),\n",
       " ('Adventures', 5),\n",
       " ('Advice', 1),\n",
       " ('After', 6),\n",
       " ('Ah', 5),\n",
       " ('Ahem', 1),\n",
       " ('Alas', 1),\n",
       " ('Alice', 385),\n",
       " ('Aliceand', 1),\n",
       " ('Alices', 12),\n",
       " ('All', 5),\n",
       " ('Allow', 1),\n",
       " ('Always', 1),\n",
       " ('An', 5),\n",
       " ('And', 67),\n",
       " ('Ann', 4),\n",
       " ('Antipathies', 1),\n",
       " ('Any', 1),\n",
       " ('Anything', 1),\n",
       " ('Archive', 13),\n",
       " ('Are', 4),\n",
       " ('ArithmeticAmbition', 1),\n",
       " ('As', 16),\n",
       " ('At', 9),\n",
       " ('Atheling', 1),\n",
       " ('Australia', 1),\n",
       " ('Author', 1),\n",
       " ('B', 2),\n",
       " ('BE', 2),\n",
       " ('BEE', 1),\n",
       " ('BEFORE', 1),\n",
       " ('BEG', 1),\n",
       " ('BEST', 2),\n",
       " ('BOOTS', 1),\n",
       " ('BREACH', 2),\n",
       " ('BUSY', 1),\n",
       " ('BUT', 1),\n",
       " ('Back', 1),\n",
       " ('Be', 1),\n",
       " ('Beauootiful', 4),\n",
       " ('Beautiful', 5),\n",
       " ('Because', 1),\n",
       " ('Before', 1),\n",
       " ('Begin', 1),\n",
       " ('Behead', 1),\n",
       " ('Besides', 1),\n",
       " ('Between', 1),\n",
       " ('Bill', 11),\n",
       " ('Bills', 3),\n",
       " ('Boots', 1),\n",
       " ('Bring', 1),\n",
       " ('But', 37),\n",
       " ('By', 4),\n",
       " ('Bythebye', 1),\n",
       " ('C', 2),\n",
       " ('CAN', 4),\n",
       " ('CHAPTER', 12),\n",
       " ('CHORUS', 2),\n",
       " ('CONSEQUENTIAL', 1),\n",
       " ('CONTRACT', 1),\n",
       " ('COULD', 4),\n",
       " ('COURT', 1),\n",
       " ('CURTSEYING', 1),\n",
       " ('Call', 4),\n",
       " ('Can', 1),\n",
       " ('Canary', 1),\n",
       " ('Cant', 1),\n",
       " ('Canterbury', 1),\n",
       " ('Carroll', 4),\n",
       " ('Cat', 24),\n",
       " ('Caterpillar', 26),\n",
       " ('Caterpillars', 1),\n",
       " ('Cats', 2),\n",
       " ('CaucusRace', 1),\n",
       " ('Caucusrace', 2),\n",
       " ('Certainly', 1),\n",
       " ('Change', 1),\n",
       " ('Cheshire', 7),\n",
       " ('Chief', 1),\n",
       " ('Chorus', 1),\n",
       " ('Christmas', 1),\n",
       " ('City', 1),\n",
       " ('Classics', 1)]"
      ]
     },
     "execution_count": 70,
     "metadata": {},
     "output_type": "execute_result"
    }
   ],
   "source": []
  }
 ],
 "metadata": {
  "kernelspec": {
   "display_name": "Python [Root]",
   "language": "python",
   "name": "Python [Root]"
  },
  "language_info": {
   "codemirror_mode": {
    "name": "ipython",
    "version": 2
   },
   "file_extension": ".py",
   "mimetype": "text/x-python",
   "name": "python",
   "nbconvert_exporter": "python",
   "pygments_lexer": "ipython2",
   "version": "2.7.12"
  }
 },
 "nbformat": 4,
 "nbformat_minor": 0
}
